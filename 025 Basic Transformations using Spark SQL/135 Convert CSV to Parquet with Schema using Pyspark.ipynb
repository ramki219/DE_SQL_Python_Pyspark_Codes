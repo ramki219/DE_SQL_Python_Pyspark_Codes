{
 "cells": [
  {
   "cell_type": "code",
   "execution_count": null,
   "metadata": {},
   "outputs": [],
   "source": [
    "import json\n",
    "\n",
    "def get_columns(schemas_file, ds_name):\n",
    "    schema_text = spark.read.text(schemas_file, wholetext=True).first().value\n",
    "    schemas = json.loads(schema_text)\n",
    "    column_details = schemas[ds_name]\n",
    "    columns = [col['column_name'] for col in sorted(column_details, key=lambda col: col['column_position'])]\n",
    "    return columns"
   ]
  },
  {
   "cell_type": "code",
   "execution_count": null,
   "metadata": {},
   "outputs": [],
   "source": [
    "ds_list = [\n",
    "    'departments', 'categories', 'products',\n",
    "    'customers', 'orders', 'order_items'\n",
    "]"
   ]
  },
  {
   "cell_type": "code",
   "execution_count": null,
   "metadata": {},
   "outputs": [],
   "source": [
    "base_dir = 'dbfs:/public/retail_db'"
   ]
  },
  {
   "cell_type": "code",
   "execution_count": null,
   "metadata": {},
   "outputs": [],
   "source": [
    "tgt_base_dir = 'dbfs:/public/retail_db_parquet'"
   ]
  },
  {
   "cell_type": "code",
   "execution_count": null,
   "metadata": {},
   "outputs": [],
   "source": [
    "columns = get_columns('dbfs:/public/retail_db/schemas.json', 'orders')"
   ]
  },
  {
   "cell_type": "code",
   "execution_count": null,
   "metadata": {},
   "outputs": [],
   "source": [
    "orders = spark.read.csv('dbfs:/public/retail_db/orders', inferSchema=True).toDf(*columns)"
   ]
  },
  {
   "cell_type": "code",
   "execution_count": null,
   "metadata": {},
   "outputs": [],
   "source": [
    "orders. \\\n",
    "    write. \\\n",
    "    mode('overwrite'). \\\n",
    "    parquet('dbfs:/public/retail_db_parquet/orders')"
   ]
  },
  {
   "cell_type": "code",
   "execution_count": null,
   "metadata": {},
   "outputs": [],
   "source": [
    "%sql\n",
    "\n",
    "SELECt * FROM PARQUET.`dbfs:/public/retail_db_parquet/orders`"
   ]
  },
  {
   "cell_type": "code",
   "execution_count": null,
   "metadata": {},
   "outputs": [],
   "source": [
    "for ds in ds_list:\n",
    "    print(f'Processing {ds} data')\n",
    "    columns = get_columns(f'{base_dir}/schemas.json', ds)\n",
    "    df = spark. \\\n",
    "        read. \\\n",
    "        csv(f'{base_dir}/{ds}', inferSchema=True, ). \\\n",
    "        toDf(*columns)\n",
    "    df. \\\n",
    "        write. \\\n",
    "        mode('overwrite'). \\\n",
    "        parquet(f'{tgt_base_dir}/{ds}')"
   ]
  }
 ],
 "metadata": {
  "language_info": {
   "name": "python"
  },
  "orig_nbformat": 4
 },
 "nbformat": 4,
 "nbformat_minor": 2
}
