{
 "cells": [
  {
   "cell_type": "code",
   "execution_count": null,
   "metadata": {},
   "outputs": [],
   "source": [
    "CREATE OR REPLACE TEMPORARY VIEW orders (\n",
    "    order_id INT,\n",
    "    order_date STRING,\n",
    "    order_customer_id INT,\n",
    "    order_status STRING\n",
    ") USING CSV\n",
    "OPTIONS (\n",
    "    path='dbfs:/public/retail_db/orders',\n",
    "    sep=','\n",
    ")"
   ]
  },
  {
   "cell_type": "code",
   "execution_count": null,
   "metadata": {},
   "outputs": [],
   "source": [
    "CREATE OR REPLACE TEMPORARY VIEW order_items (\n",
    "    order_item_id INT,\n",
    "    order_item_order_id INT,\n",
    "    order_item_product_id INT,\n",
    "    order_item_quantity INT,\n",
    "    order_item_subtotal FLOAT,\n",
    "    order_item_product_price FLOAT\n",
    ") USING CSV\n",
    "OPTIONS (\n",
    "    path='dbfs:/public/retail_db/order_items',\n",
    "    sep=','\n",
    ")"
   ]
  },
  {
   "cell_type": "code",
   "execution_count": null,
   "metadata": {},
   "outputs": [],
   "source": [
    "\n",
    "INSERT INTO DIRECTORY 'dbfs:/public/retail_db/daily_product_revenue'\n",
    "SELECT o.order_date,\n",
    "    oi.order_item_product_id,\n",
    "    round(sum(oi.order_item_subtotal)) AS revenue\n",
    "FROM orders AS o\n",
    "    JOIN order_items AS oi\n",
    "        ON o.order_id = oi. order_item_order_id\n",
    "WHERE order_status IN ('COMPLETE', 'CLOSED')\n",
    "GROUP BY 1, 2"
   ]
  },
  {
   "cell_type": "code",
   "execution_count": null,
   "metadata": {},
   "outputs": [],
   "source": [
    "%fs ls dbfs:/public/retail_db/daily_product_revenue"
   ]
  },
  {
   "cell_type": "code",
   "execution_count": null,
   "metadata": {},
   "outputs": [],
   "source": [
    "SELECT * FROM PARQUET.`dbfs:/public/retail_db/daily_product_revenue`\n",
    "ORDER BY order_date, revenue DESC"
   ]
  },
  {
   "cell_type": "code",
   "execution_count": null,
   "metadata": {},
   "outputs": [],
   "source": [
    "SELECT * FROM PARQUET.`dbfs:/public/retail_db/daily_product_revenue`\n",
    "ORDER BY 1, 3 DESC"
   ]
  }
 ],
 "metadata": {
  "language_info": {
   "name": "python"
  },
  "orig_nbformat": 4
 },
 "nbformat": 4,
 "nbformat_minor": 2
}
