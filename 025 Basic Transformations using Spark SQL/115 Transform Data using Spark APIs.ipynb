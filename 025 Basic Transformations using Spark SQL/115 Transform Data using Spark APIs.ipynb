{
 "cells": [
  {
   "cell_type": "code",
   "execution_count": null,
   "metadata": {},
   "outputs": [],
   "source": [
    "schemas_text = spark.read.text(\n",
    "    'dbfs:/public/retail_db/schemas.json',\n",
    "    wholetext=True\n",
    "). \\\n",
    "    first(). \\\n",
    "    value"
   ]
  },
  {
   "cell_type": "code",
   "execution_count": null,
   "metadata": {},
   "outputs": [],
   "source": [
    "import json"
   ]
  },
  {
   "cell_type": "code",
   "execution_count": null,
   "metadata": {},
   "outputs": [],
   "source": [
    "column_details = json.loads(schemas_text)['orders']"
   ]
  },
  {
   "cell_type": "code",
   "execution_count": null,
   "metadata": {},
   "outputs": [],
   "source": [
    "columns = [col['column_name'] for col in sorted(column_details, key=lambda col: col['column_position'])]"
   ]
  },
  {
   "cell_type": "code",
   "execution_count": null,
   "metadata": {},
   "outputs": [],
   "source": [
    "orders = spark.read.csv(\n",
    "    'dbfs:/public/retail_db/orders',\n",
    "    inferSchema=True\n",
    "). \\\n",
    "    toDf(*columns)"
   ]
  },
  {
   "cell_type": "code",
   "execution_count": null,
   "metadata": {},
   "outputs": [],
   "source": [
    "from pyspark.sql.functions import count, col"
   ]
  },
  {
   "cell_type": "code",
   "execution_count": null,
   "metadata": {},
   "outputs": [],
   "source": [
    "# Sorts data in ascending order using order count\n",
    "\n",
    "orders. \\\n",
    "    groupBy('order_status'). \\\n",
    "    agg(count('*').alias('order_count')). \\\n",
    "    orderBy('order_count'). \\\n",
    "    show()"
   ]
  },
  {
   "cell_type": "code",
   "execution_count": null,
   "metadata": {},
   "outputs": [],
   "source": [
    "# Sorts data in descending order using order count\n",
    "\n",
    "orders. \\\n",
    "    groupBy('order_status'). \\\n",
    "    agg(count('*').alias('order_count')). \\\n",
    "    orderBy(col('order_count').desc()). \\\n",
    "    show()"
   ]
  }
 ],
 "metadata": {
  "language_info": {
   "name": "python"
  },
  "orig_nbformat": 4
 },
 "nbformat": 4,
 "nbformat_minor": 2
}
