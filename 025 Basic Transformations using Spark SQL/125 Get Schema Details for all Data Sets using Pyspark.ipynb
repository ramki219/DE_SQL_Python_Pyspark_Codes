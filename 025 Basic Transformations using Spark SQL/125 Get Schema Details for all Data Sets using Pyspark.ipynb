{
 "cells": [
  {
   "cell_type": "code",
   "execution_count": null,
   "metadata": {},
   "outputs": [],
   "source": [
    "import json\n",
    "\n",
    "def get_columns(schemas_file, ds_name):\n",
    "    schema_text = spark.read.text(schemas_file, wholetext=True).first().value\n",
    "    schemas = json.loads(schema_text)\n",
    "    column_details = schemas[ds_name]\n",
    "    columns = [col['column_name'] for col in sorted(column_details, key=lambda col: col['column_position'])]\n",
    "    return columns"
   ]
  },
  {
   "cell_type": "code",
   "execution_count": null,
   "metadata": {},
   "outputs": [],
   "source": [
    "get_columns('dbfs:/public/retail_db/schemas.json', 'orders')"
   ]
  },
  {
   "cell_type": "code",
   "execution_count": null,
   "metadata": {},
   "outputs": [],
   "source": [
    "ds_list = [\n",
    "    'departments', 'categories', 'products',\n",
    "    'customers', 'orders', 'order_items'\n",
    "]"
   ]
  },
  {
   "cell_type": "code",
   "execution_count": null,
   "metadata": {},
   "outputs": [],
   "source": [
    "base_dir = 'dbfs:/public/retail_db'"
   ]
  },
  {
   "cell_type": "code",
   "execution_count": null,
   "metadata": {},
   "outputs": [],
   "source": [
    "for ds in ds_list:\n",
    "    print(f'Processing {ds} data')\n",
    "    columns = get_columns(f'{base_dir}/schemas.json', ds)\n",
    "    print(columns)"
   ]
  }
 ],
 "metadata": {
  "language_info": {
   "name": "python"
  },
  "orig_nbformat": 4
 },
 "nbformat": 4,
 "nbformat_minor": 2
}
