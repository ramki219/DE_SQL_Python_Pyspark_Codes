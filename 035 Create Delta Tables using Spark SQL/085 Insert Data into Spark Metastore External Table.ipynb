{
 "cells": [
  {
   "cell_type": "code",
   "execution_count": null,
   "metadata": {},
   "outputs": [],
   "source": [
    "USE itversity_retail_db"
   ]
  },
  {
   "cell_type": "code",
   "execution_count": null,
   "metadata": {},
   "outputs": [],
   "source": [
    "-- Used this for the demo\n",
    "INSERT INTO order_items\n",
    "SELECT order_item_id,\n",
    "  order_item_order_id,\n",
    "  order_item_product_id,\n",
    "  order_item_quantity,\n",
    "  order_item_subtotal,\n",
    "  order_item_product_price\n",
    "FROM JSON.`dbfs:/public/retail_db_json/order_items`"
   ]
  }
 ],
 "metadata": {
  "language_info": {
   "name": "python"
  },
  "orig_nbformat": 4
 },
 "nbformat": 4,
 "nbformat_minor": 2
}
