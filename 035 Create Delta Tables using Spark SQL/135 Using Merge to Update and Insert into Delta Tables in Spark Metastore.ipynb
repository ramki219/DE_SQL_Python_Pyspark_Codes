{
 "cells": [
  {
   "cell_type": "code",
   "execution_count": null,
   "metadata": {},
   "outputs": [],
   "source": [
    "USE default"
   ]
  },
  {
   "cell_type": "code",
   "execution_count": null,
   "metadata": {},
   "outputs": [],
   "source": [
    "CREATE TABLE crud_demo_stg (\n",
    "    user_id INT,\n",
    "    user_fname STRING,\n",
    "    user_lname STRING,\n",
    "    user_email STRING\n",
    ") USING DELTA"
   ]
  },
  {
   "cell_type": "code",
   "execution_count": null,
   "metadata": {},
   "outputs": [],
   "source": [
    "SELECT * FROM crud_demo"
   ]
  },
  {
   "cell_type": "code",
   "execution_count": null,
   "metadata": {},
   "outputs": [],
   "source": [
    "SELECT * FROM crud_demo_stg"
   ]
  },
  {
   "cell_type": "code",
   "execution_count": null,
   "metadata": {},
   "outputs": [],
   "source": [
    "INSERT INTO crud_demo_stg\n",
    "VALUES\n",
    "    (3, 'Durga', 'Gadiraju', 'dgadiraju@email.com'),\n",
    "    (5, 'ITVersity', 'Inc', 'iinc@email.com'),\n",
    "    (6, 'Analytiqs', 'Inc', 'ainc@email.com')"
   ]
  },
  {
   "cell_type": "code",
   "execution_count": null,
   "metadata": {},
   "outputs": [],
   "source": [
    "SELECT * FROM crud_demo_stg"
   ]
  },
  {
   "cell_type": "code",
   "execution_count": null,
   "metadata": {},
   "outputs": [],
   "source": [
    "MERGE INTO crud_demo AS cd\n",
    "USING crud_demo_stg AS cdg\n",
    "    ON cd.user_id = cdg.user_id\n",
    "WHEN MATCHED THEN UPDATE SET *\n",
    "WHEN NOT MATCHED THEN INSERT *"
   ]
  },
  {
   "cell_type": "code",
   "execution_count": null,
   "metadata": {},
   "outputs": [],
   "source": [
    "-- Explicitly specified columns\n",
    "MERGE INTO crud_demo AS cd\n",
    "    USING crud_demo_stg AS cdg\n",
    "        ON cd.user_id = cdg.user_id\n",
    "WHEN MATCHED THEN UPDATE SET\n",
    "    cd.user_fname = cdg.user_fname,\n",
    "    cd.user_lname = cdg.user_lname,\n",
    "    cd.user_email = cdg.user_email\n",
    "WHEN NOT MATCHED THEN INSERT\n",
    "  (cd.user_id, cd.user_fname, cd.user_lname, cd.user_email)\n",
    "VALUES\n",
    "  (cdg.user_id, cdg.user_fname, cdg.user_lname, cdg.user_email)"
   ]
  }
 ],
 "metadata": {
  "language_info": {
   "name": "python"
  },
  "orig_nbformat": 4
 },
 "nbformat": 4,
 "nbformat_minor": 2
}
