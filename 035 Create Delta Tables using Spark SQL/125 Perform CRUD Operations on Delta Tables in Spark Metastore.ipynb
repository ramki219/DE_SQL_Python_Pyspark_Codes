{
 "cells": [
  {
   "cell_type": "code",
   "execution_count": null,
   "metadata": {},
   "outputs": [],
   "source": [
    "USE default"
   ]
  },
  {
   "cell_type": "code",
   "execution_count": null,
   "metadata": {},
   "outputs": [],
   "source": [
    "-- CRUD\n",
    "CREATE TABLE crud_demo (\n",
    "    user_id INT,\n",
    "    user_fname STRING,\n",
    "    user_lname STRING,\n",
    "    user_email STRING\n",
    ") USING DELTA"
   ]
  },
  {
   "cell_type": "code",
   "execution_count": null,
   "metadata": {},
   "outputs": [],
   "source": [
    "INSERT INTO crud_demo \n",
    "VALUES\n",
    "    (1, 'Scott', 'Tiger', 'stiger@email.com'),\n",
    "    (2, 'Donald', 'Duck', 'dduck@email.com')"
   ]
  },
  {
   "cell_type": "code",
   "execution_count": null,
   "metadata": {},
   "outputs": [],
   "source": [
    "SELECT * FROM crud_demo"
   ]
  },
  {
   "cell_type": "code",
   "execution_count": null,
   "metadata": {},
   "outputs": [],
   "source": [
    "INSERT INTO crud_demo \n",
    "VALUES\n",
    "    (1, 'Mickey', 'Mouse', 'mmouse@email.com'),\n",
    "    (2, 'Tom', 'Jerry', null)"
   ]
  },
  {
   "cell_type": "code",
   "execution_count": null,
   "metadata": {},
   "outputs": [],
   "source": [
    "SELECT * FROM crud_demo"
   ]
  },
  {
   "cell_type": "code",
   "execution_count": null,
   "metadata": {},
   "outputs": [],
   "source": [
    "DELETE FROM crud_demo\n",
    "WHERE user_email IS NULL or user_email = 'mmouse@email.com'"
   ]
  },
  {
   "cell_type": "code",
   "execution_count": null,
   "metadata": {},
   "outputs": [],
   "source": [
    "INSERT INTO crud_demo \n",
    "VALUES\n",
    "    (3, 'Mickey', 'Mouse', 'mmouse@email.com'),\n",
    "    (4, 'Tom', 'Jerry', null)"
   ]
  },
  {
   "cell_type": "code",
   "execution_count": null,
   "metadata": {},
   "outputs": [],
   "source": [
    "SELECT * FROM crud_demo"
   ]
  },
  {
   "cell_type": "code",
   "execution_count": null,
   "metadata": {},
   "outputs": [],
   "source": [
    "UPDATE crud_demo\n",
    "SET user_email = 'tjerry@email.com'\n",
    "WHERE user_email IS NULL"
   ]
  },
  {
   "cell_type": "code",
   "execution_count": null,
   "metadata": {},
   "outputs": [],
   "source": [
    "SELECT * FROM crud_demo"
   ]
  }
 ],
 "metadata": {
  "language_info": {
   "name": "python"
  },
  "orig_nbformat": 4
 },
 "nbformat": 4,
 "nbformat_minor": 2
}
