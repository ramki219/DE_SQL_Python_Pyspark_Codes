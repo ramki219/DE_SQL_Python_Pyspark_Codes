{
 "cells": [
  {
   "cell_type": "code",
   "execution_count": null,
   "metadata": {},
   "outputs": [],
   "source": [
    "DROP DATABASE IF EXISTS itversity_retail_db CASCADE"
   ]
  },
  {
   "cell_type": "code",
   "execution_count": null,
   "metadata": {},
   "outputs": [],
   "source": [
    "SET spark.sql.warehouse.dir -- Default is dbfs:/user/hive/warehouse/"
   ]
  },
  {
   "cell_type": "code",
   "execution_count": null,
   "metadata": {},
   "outputs": [],
   "source": [
    "CREATE DATABASE itversity_retail_db"
   ]
  },
  {
   "cell_type": "code",
   "execution_count": null,
   "metadata": {},
   "outputs": [],
   "source": [
    "DESCRIBE DATABASE itversity_retail_db"
   ]
  },
  {
   "cell_type": "code",
   "execution_count": null,
   "metadata": {},
   "outputs": [],
   "source": [
    "-- Folder will be created by the name of the database with db extension \"itversity_retail_db.db\"\n",
    "%fs ls dbfs:/user/hive/warehouse/"
   ]
  },
  {
   "cell_type": "markdown",
   "metadata": {},
   "source": [
    "You can also specify the location explicitly for the database while creating it.\n",
    "\n",
    "```\n",
    "CREATE DATABASE itversity_retail_db LOCATION 'dbfs:/public/warehouse/itversity_retail_db.db'\n",
    "```"
   ]
  }
 ],
 "metadata": {
  "language_info": {
   "name": "python"
  },
  "orig_nbformat": 4
 },
 "nbformat": 4,
 "nbformat_minor": 2
}
