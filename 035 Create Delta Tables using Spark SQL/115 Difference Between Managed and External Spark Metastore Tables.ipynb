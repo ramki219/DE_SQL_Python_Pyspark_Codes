{
 "cells": [
  {
   "cell_type": "markdown",
   "metadata": {},
   "source": [
    "Difference between Managed and External Tables\n",
    "* Location: Location needs to be specified for External Tables.\n",
    "* DROP: Both Data as well as metadata from metastore will be deleted in case of Managed Tables. For External tables only metadata will be deletd from metastore. Data will be intact.\n",
    "* TRUNCATE: In the older versions Managed Table can be truncated but External Table cannot be. But in the latest version truncate can be used on both Managed as well as External Table."
   ]
  },
  {
   "cell_type": "code",
   "execution_count": null,
   "metadata": {},
   "outputs": [],
   "source": [
    "TRUNCATE TABLE order_items"
   ]
  },
  {
   "cell_type": "code",
   "execution_count": null,
   "metadata": {},
   "outputs": [],
   "source": [
    "TRUNCATE TABLE orders"
   ]
  },
  {
   "cell_type": "code",
   "execution_count": null,
   "metadata": {},
   "outputs": [],
   "source": [
    "SELECT * FROM order_items"
   ]
  },
  {
   "cell_type": "code",
   "execution_count": null,
   "metadata": {},
   "outputs": [],
   "source": [
    "SELECT * FROM order_items"
   ]
  },
  {
   "cell_type": "code",
   "execution_count": null,
   "metadata": {},
   "outputs": [],
   "source": [
    "INSERT INTO order_items\n",
    "SELECT order_item_id,\n",
    "  order_item_order_id,\n",
    "  order_item_product_id,\n",
    "  order_item_quantity,\n",
    "  order_item_subtotal,\n",
    "  order_item_product_price\n",
    "FROM JSON.`dbfs:/public/retail_db_json/order_items`"
   ]
  },
  {
   "cell_type": "code",
   "execution_count": null,
   "metadata": {},
   "outputs": [],
   "source": [
    "DROP TABLE order_items"
   ]
  },
  {
   "cell_type": "code",
   "execution_count": null,
   "metadata": {},
   "outputs": [],
   "source": [
    "-- Even after dropping external table, the files will be available\n",
    "%fs ls dbfs:/public/warehouse/itversity_retail_db.db/order_items"
   ]
  },
  {
   "cell_type": "code",
   "execution_count": null,
   "metadata": {},
   "outputs": [],
   "source": [
    "-- Even after dropping external table, below query will work\n",
    "SELECT count(*) FROM DELTA.`dbfs:/public/warehouse/itversity_retail_db.db/order_items`"
   ]
  },
  {
   "cell_type": "code",
   "execution_count": null,
   "metadata": {},
   "outputs": [],
   "source": [
    "INSERT INTO orders\n",
    "SELECT order_id,\n",
    "  order_date,\n",
    "  order_customer_id,\n",
    "  order_status\n",
    "FROM JSON.`dbfs:/public/retail_db_json/orders`"
   ]
  },
  {
   "cell_type": "code",
   "execution_count": null,
   "metadata": {},
   "outputs": [],
   "source": [
    "%fs ls dbfs:/user/hive/warehouse/itversity_retail_db.db/orders"
   ]
  },
  {
   "cell_type": "code",
   "execution_count": null,
   "metadata": {},
   "outputs": [],
   "source": [
    "DROP TABLE orders"
   ]
  },
  {
   "cell_type": "code",
   "execution_count": null,
   "metadata": {},
   "outputs": [],
   "source": [
    "-- this will fail saying the folder does not exists\n",
    "%fs ls dbfs:/user/hive/warehouse/itversity_retail_db.db/orders"
   ]
  }
 ],
 "metadata": {
  "language_info": {
   "name": "python"
  },
  "orig_nbformat": 4
 },
 "nbformat": 4,
 "nbformat_minor": 2
}
