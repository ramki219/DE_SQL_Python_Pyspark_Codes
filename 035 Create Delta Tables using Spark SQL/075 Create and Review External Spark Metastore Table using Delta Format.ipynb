{
 "cells": [
  {
   "cell_type": "code",
   "execution_count": null,
   "metadata": {},
   "outputs": [],
   "source": [
    "USE itversity_retail_db"
   ]
  },
  {
   "cell_type": "code",
   "execution_count": null,
   "metadata": {},
   "outputs": [],
   "source": [
    "CREATE EXTERNAL TABLE order_items ( -- EXTERNAL is optional\n",
    "  order_item_id BIGINT,\n",
    "  order_item_order_id BIGINT,\n",
    "  order_item_product_id BIGINT,\n",
    "  order_item_quantity BIGINT,\n",
    "  order_item_subtotal DOUBLE,\n",
    "  order_item_product_price DOUBLE\n",
    ") USING DELTA\n",
    "OPTIONS (\n",
    "  path='dbfs:/public/warehouse/itversity_retail_db.db/order_items' \n",
    "  -- If location is specified using path, then the table will be considered as external\n",
    ")"
   ]
  },
  {
   "cell_type": "code",
   "execution_count": null,
   "metadata": {},
   "outputs": [],
   "source": [
    "%fs ls dbfs:/public/warehouse/itversity_retail_db.db"
   ]
  },
  {
   "cell_type": "code",
   "execution_count": null,
   "metadata": {},
   "outputs": [],
   "source": [
    "-- COPY INTO order_items\n",
    "-- FROM 'dbfs:/public/retail_db_json/order_items'\n",
    "-- FILEFORMAT = JSON"
   ]
  }
 ],
 "metadata": {
  "language_info": {
   "name": "python"
  },
  "orig_nbformat": 4
 },
 "nbformat": 4,
 "nbformat_minor": 2
}
