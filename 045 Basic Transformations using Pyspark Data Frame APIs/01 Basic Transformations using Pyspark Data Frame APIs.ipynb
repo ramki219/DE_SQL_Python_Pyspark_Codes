{
 "cells": [
  {
   "cell_type": "code",
   "execution_count": 0,
   "metadata": {
    "application/vnd.databricks.v1+cell": {
     "cellMetadata": {},
     "inputWidgets": {},
     "nuid": "24beb970-005c-4a91-8b4d-81f804ac8bd9",
     "showTitle": false,
     "title": ""
    }
   },
   "outputs": [],
   "source": [
    "# Row level transformation - select\n",
    "# Filtering of the data - filter or where\n",
    "# Grouping of the data - groupBy\n",
    "# Joining the data - join\n",
    "# Sorting of the data - orderBy or sort"
   ]
  },
  {
   "cell_type": "code",
   "execution_count": 0,
   "metadata": {
    "application/vnd.databricks.v1+cell": {
     "cellMetadata": {},
     "inputWidgets": {},
     "nuid": "904c360f-26f2-460c-86b8-1de3c7d3f2d6",
     "showTitle": false,
     "title": ""
    }
   },
   "outputs": [],
   "source": [
    "# select, filter or where => Narrow transformations\n",
    "# groupBy, orderBy or sort => Wide transformations (shuffling)\n",
    "# join (Broadcast) => Narrow transformation\n",
    "# join (reduce side) => Wide transformation (shuffling)"
   ]
  },
  {
   "cell_type": "code",
   "execution_count": 0,
   "metadata": {
    "application/vnd.databricks.v1+cell": {
     "cellMetadata": {},
     "inputWidgets": {},
     "nuid": "745dc7f6-ce6d-41a5-88bb-3a3afc9ee754",
     "showTitle": false,
     "title": ""
    }
   },
   "outputs": [],
   "source": [
    "[\n",
    "    {'user_id': 1, 'user_fname': 'Scott', 'user_lname': 'Tiger'}, # => {'user_id': 1, 'user_fname': 'Scott', 'user_lname': 'Tiger', 'user_name': 'Scott, Tiger'}\n",
    "    {'user_id': 2, 'user_fname': 'Donald', 'user_lname': 'Duck'}, # => {'user_id': 2, 'user_fname': 'Donald', 'user_lname': 'Duck', 'user_name': 'Donald, Duck'}\n",
    "    {'user_id': 3, 'user_fname': 'Mickey', 'user_lname': 'Mouse'} # => {'user_id': 3, 'user_fname': 'Mickey', 'user_lname': 'Mouse', 'user_name': 'Mickey, Mouse'}\n",
    "]"
   ]
  },
  {
   "cell_type": "code",
   "execution_count": 0,
   "metadata": {
    "application/vnd.databricks.v1+cell": {
     "cellMetadata": {},
     "inputWidgets": {},
     "nuid": "e4c6713b-0c31-46f3-ad53-5a17a7c25967",
     "showTitle": false,
     "title": ""
    }
   },
   "outputs": [],
   "source": [
    "orders_df = spark.read.csv('dbfs:/public/retail_db/orders', schema='order_id INT, order_date DATE, order_customer_id INT, order_status STRING')"
   ]
  },
  {
   "cell_type": "code",
   "execution_count": 0,
   "metadata": {
    "application/vnd.databricks.v1+cell": {
     "cellMetadata": {},
     "inputWidgets": {},
     "nuid": "467aa973-9a2f-44ac-a57d-98854e32c0fd",
     "showTitle": false,
     "title": ""
    }
   },
   "outputs": [],
   "source": [
    "display(orders_df)"
   ]
  },
  {
   "cell_type": "code",
   "execution_count": 0,
   "metadata": {
    "application/vnd.databricks.v1+cell": {
     "cellMetadata": {},
     "inputWidgets": {},
     "nuid": "46a29ba2-7e8d-4714-93e2-88312ae40658",
     "showTitle": false,
     "title": ""
    }
   },
   "outputs": [],
   "source": [
    "# 2013-07-25 => 201307"
   ]
  },
  {
   "cell_type": "code",
   "execution_count": 0,
   "metadata": {
    "application/vnd.databricks.v1+cell": {
     "cellMetadata": {},
     "inputWidgets": {},
     "nuid": "3c9c5ecb-8a80-48f9-a221-eea2df3e83e7",
     "showTitle": false,
     "title": ""
    }
   },
   "outputs": [],
   "source": [
    "from pyspark.sql.functions import date_format, cast"
   ]
  },
  {
   "cell_type": "code",
   "execution_count": 0,
   "metadata": {
    "application/vnd.databricks.v1+cell": {
     "cellMetadata": {},
     "inputWidgets": {},
     "nuid": "92bb0bbf-0ea9-41ac-8ada-bdc795bbf21d",
     "showTitle": false,
     "title": ""
    }
   },
   "outputs": [],
   "source": [
    "help(date_format)"
   ]
  },
  {
   "cell_type": "code",
   "execution_count": 0,
   "metadata": {
    "application/vnd.databricks.v1+cell": {
     "cellMetadata": {},
     "inputWidgets": {},
     "nuid": "e4b3d0f7-cc8f-4574-a0ae-026548a36ccc",
     "showTitle": false,
     "title": ""
    }
   },
   "outputs": [],
   "source": [
    "display(\n",
    "    orders_df. \\\n",
    "        withColumn('order_month', date_format('order_date', 'yyyyMM'))\n",
    ")"
   ]
  },
  {
   "cell_type": "code",
   "execution_count": 0,
   "metadata": {
    "application/vnd.databricks.v1+cell": {
     "cellMetadata": {},
     "inputWidgets": {},
     "nuid": "32a1409e-7750-4b35-b922-a5dac3b71ffb",
     "showTitle": false,
     "title": ""
    }
   },
   "outputs": [],
   "source": [
    "orders_df. \\\n",
    "    withColumn('order_month', date_format('order_date', 'yyyyMM').cast('int')). \\\n",
    "    printSchema()"
   ]
  },
  {
   "cell_type": "code",
   "execution_count": 0,
   "metadata": {
    "application/vnd.databricks.v1+cell": {
     "cellMetadata": {},
     "inputWidgets": {},
     "nuid": "8571eb22-47df-41c1-b4d9-07cd6732d0ca",
     "showTitle": false,
     "title": ""
    }
   },
   "outputs": [],
   "source": [
    "help(cast)"
   ]
  },
  {
   "cell_type": "code",
   "execution_count": 0,
   "metadata": {
    "application/vnd.databricks.v1+cell": {
     "cellMetadata": {},
     "inputWidgets": {},
     "nuid": "d014890f-92f9-45fe-a028-cd011b08bb93",
     "showTitle": false,
     "title": ""
    }
   },
   "outputs": [],
   "source": [
    "orders_df. \\\n",
    "    withColumn('order_month', cast(int, date_format('order_date', 'yyyyMM'))). \\\n",
    "    printSchema()"
   ]
  },
  {
   "cell_type": "code",
   "execution_count": 0,
   "metadata": {
    "application/vnd.databricks.v1+cell": {
     "cellMetadata": {},
     "inputWidgets": {},
     "nuid": "055b507e-571c-4875-9a64-68bba7a57544",
     "showTitle": false,
     "title": ""
    }
   },
   "outputs": [],
   "source": [
    "display(orders_df)"
   ]
  },
  {
   "cell_type": "code",
   "execution_count": 0,
   "metadata": {
    "application/vnd.databricks.v1+cell": {
     "cellMetadata": {},
     "inputWidgets": {},
     "nuid": "8f6da26d-0f7a-426c-85dd-ad0000a06230",
     "showTitle": false,
     "title": ""
    }
   },
   "outputs": [],
   "source": [
    "help(orders_df.filter)"
   ]
  },
  {
   "cell_type": "code",
   "execution_count": 0,
   "metadata": {
    "application/vnd.databricks.v1+cell": {
     "cellMetadata": {},
     "inputWidgets": {},
     "nuid": "a94654cb-6505-4e5f-97c5-20d540c2a8bd",
     "showTitle": false,
     "title": ""
    }
   },
   "outputs": [],
   "source": [
    "help(orders_df.where)"
   ]
  },
  {
   "cell_type": "code",
   "execution_count": 0,
   "metadata": {
    "application/vnd.databricks.v1+cell": {
     "cellMetadata": {},
     "inputWidgets": {},
     "nuid": "359ed042-48ce-4be1-adbf-b0b623d7785e",
     "showTitle": false,
     "title": ""
    }
   },
   "outputs": [],
   "source": [
    "display(orders_df.select('order_status').distinct())"
   ]
  },
  {
   "cell_type": "code",
   "execution_count": 0,
   "metadata": {
    "application/vnd.databricks.v1+cell": {
     "cellMetadata": {},
     "inputWidgets": {},
     "nuid": "609f4038-2761-43dc-89f8-2334c888b6f8",
     "showTitle": false,
     "title": ""
    }
   },
   "outputs": [],
   "source": [
    "# SELECT * FROM orders WHERE order_status = 'COMPLETE'\n",
    "display(orders_df.filter(\"order_status = 'COMPLETE'\"))"
   ]
  },
  {
   "cell_type": "code",
   "execution_count": 0,
   "metadata": {
    "application/vnd.databricks.v1+cell": {
     "cellMetadata": {},
     "inputWidgets": {},
     "nuid": "4bf60999-f28e-4e14-82fe-afe50913c946",
     "showTitle": false,
     "title": ""
    }
   },
   "outputs": [],
   "source": [
    "orders_df.count()"
   ]
  },
  {
   "cell_type": "code",
   "execution_count": 0,
   "metadata": {
    "application/vnd.databricks.v1+cell": {
     "cellMetadata": {},
     "inputWidgets": {},
     "nuid": "d6f987e6-9b47-4a01-958f-cefd2ea5e683",
     "showTitle": false,
     "title": ""
    }
   },
   "outputs": [],
   "source": [
    "orders_df.filter(\"order_status = 'COMPLETE'\").count()"
   ]
  },
  {
   "cell_type": "code",
   "execution_count": 0,
   "metadata": {
    "application/vnd.databricks.v1+cell": {
     "cellMetadata": {},
     "inputWidgets": {},
     "nuid": "53da639c-00c4-461e-a00c-f0947dd233ca",
     "showTitle": false,
     "title": ""
    }
   },
   "outputs": [],
   "source": [
    "# Get all the COMPLETE or CLOSED orders which are placed in the month of 2014, January\n",
    "# SELECT * FROM orders WHERE order_status IN ('COMPLETE', 'CLOSED')\n",
    "orders_df.filter(\"order_status IN ('COMPLETE', 'CLOSED')\").count()"
   ]
  },
  {
   "cell_type": "code",
   "execution_count": 0,
   "metadata": {
    "application/vnd.databricks.v1+cell": {
     "cellMetadata": {},
     "inputWidgets": {},
     "nuid": "9038cc53-9532-4505-9748-5f7c4ea4613f",
     "showTitle": false,
     "title": ""
    }
   },
   "outputs": [],
   "source": [
    "# SELECT * FROM orders WHERE date_format(order_date, 'yyyyMM') = 201401\n",
    "display(orders_df.filter(\"date_format(order_date, 'yyyyMM') = 201401\"))"
   ]
  },
  {
   "cell_type": "code",
   "execution_count": 0,
   "metadata": {
    "application/vnd.databricks.v1+cell": {
     "cellMetadata": {},
     "inputWidgets": {},
     "nuid": "ad6318f3-7a17-4932-97b0-de349374e411",
     "showTitle": false,
     "title": ""
    }
   },
   "outputs": [],
   "source": [
    "orders_df.filter(\"date_format(order_date, 'yyyyMM') = 201401\").count()"
   ]
  },
  {
   "cell_type": "code",
   "execution_count": 0,
   "metadata": {
    "application/vnd.databricks.v1+cell": {
     "cellMetadata": {},
     "inputWidgets": {},
     "nuid": "986bb756-910f-4b13-9e86-7e7c5e3d30f6",
     "showTitle": false,
     "title": ""
    }
   },
   "outputs": [],
   "source": [
    "# SELECT * FROM orders WHERE date_format(order_date, 'yyyyMM') = 201401 AND order_status IN ('COMPLETE', 'CLOSED')\n",
    "display(orders_df.filter(\"date_format(order_date, 'yyyyMM') = 201401 AND order_status IN ('COMPLETE', 'CLOSED')\"))"
   ]
  },
  {
   "cell_type": "code",
   "execution_count": 0,
   "metadata": {
    "application/vnd.databricks.v1+cell": {
     "cellMetadata": {},
     "inputWidgets": {},
     "nuid": "b5e345dd-e7ba-47e3-9830-3565a647cd2e",
     "showTitle": false,
     "title": ""
    }
   },
   "outputs": [],
   "source": [
    "orders_df.filter(\"date_format(order_date, 'yyyyMM') = 201401 AND order_status IN ('COMPLETE', 'CLOSED')\").count()"
   ]
  },
  {
   "cell_type": "code",
   "execution_count": 0,
   "metadata": {
    "application/vnd.databricks.v1+cell": {
     "cellMetadata": {},
     "inputWidgets": {},
     "nuid": "527b630c-d97e-4eb8-9d1d-101a2fc755e9",
     "showTitle": false,
     "title": ""
    }
   },
   "outputs": [],
   "source": [
    "orders_df = spark.read.csv('dbfs:/public/retail_db/orders', schema='order_id INT, order_date DATE, order_customer_id INT, order_status STRING')"
   ]
  },
  {
   "cell_type": "code",
   "execution_count": 0,
   "metadata": {
    "application/vnd.databricks.v1+cell": {
     "cellMetadata": {},
     "inputWidgets": {},
     "nuid": "54535ea3-fdf0-433b-8174-c3d3d760bc29",
     "showTitle": false,
     "title": ""
    }
   },
   "outputs": [],
   "source": [
    "display(orders_df)"
   ]
  },
  {
   "cell_type": "code",
   "execution_count": 0,
   "metadata": {
    "application/vnd.databricks.v1+cell": {
     "cellMetadata": {},
     "inputWidgets": {},
     "nuid": "ebd673ea-fb7b-45be-8d02-64b6b3c7340d",
     "showTitle": false,
     "title": ""
    }
   },
   "outputs": [],
   "source": [
    "from pyspark.sql.functions import count, col"
   ]
  },
  {
   "cell_type": "code",
   "execution_count": 0,
   "metadata": {
    "application/vnd.databricks.v1+cell": {
     "cellMetadata": {},
     "inputWidgets": {},
     "nuid": "3e95d58c-2484-4be2-a28b-55e4c3c41e56",
     "showTitle": false,
     "title": ""
    }
   },
   "outputs": [],
   "source": [
    "# SELECT order_status, count(*) AS order_count FROM orders GROUP BY order_status ORDER BY order_count DESC\n",
    "display(\n",
    "    orders_df. \\\n",
    "        groupBy('order_status'). \\\n",
    "        agg(count('order_id').alias('order_count')). \\\n",
    "        orderBy(col('order_count').desc())\n",
    ")"
   ]
  },
  {
   "cell_type": "code",
   "execution_count": 0,
   "metadata": {
    "application/vnd.databricks.v1+cell": {
     "cellMetadata": {},
     "inputWidgets": {},
     "nuid": "687b7852-1e63-4f07-917f-09d24feff86d",
     "showTitle": false,
     "title": ""
    }
   },
   "outputs": [],
   "source": [
    "%fs ls dbfs:/public/retail_db/order_items"
   ]
  },
  {
   "cell_type": "code",
   "execution_count": 0,
   "metadata": {
    "application/vnd.databricks.v1+cell": {
     "cellMetadata": {},
     "inputWidgets": {},
     "nuid": "3f7eb6be-504b-4e69-9667-07a1ab4858f1",
     "showTitle": false,
     "title": ""
    }
   },
   "outputs": [],
   "source": [
    "order_items_df = spark.read.csv(\n",
    "    'dbfs:/public/retail_db/order_items',\n",
    "    schema='''\n",
    "        order_item_id INT, order_item_order_id INT, order_item_product_id INT,\n",
    "        order_item_quantity INT, order_item_subtotal FLOAT, order_item_product_price FLOAT\n",
    "    '''\n",
    ")"
   ]
  },
  {
   "cell_type": "code",
   "execution_count": 0,
   "metadata": {
    "application/vnd.databricks.v1+cell": {
     "cellMetadata": {},
     "inputWidgets": {},
     "nuid": "f037114c-80b0-4e60-a3b6-57b8ac5c7b38",
     "showTitle": false,
     "title": ""
    }
   },
   "outputs": [],
   "source": [
    "display(order_items_df)"
   ]
  },
  {
   "cell_type": "code",
   "execution_count": 0,
   "metadata": {
    "application/vnd.databricks.v1+cell": {
     "cellMetadata": {},
     "inputWidgets": {},
     "nuid": "dcc7a74f-a0e5-4488-9633-7b33e19d2a82",
     "showTitle": false,
     "title": ""
    }
   },
   "outputs": [],
   "source": [
    "from pyspark.sql.functions import sum, round"
   ]
  },
  {
   "cell_type": "code",
   "execution_count": 0,
   "metadata": {
    "application/vnd.databricks.v1+cell": {
     "cellMetadata": {},
     "inputWidgets": {},
     "nuid": "b7ffa04c-b0bc-4e51-815f-f2cf97ec082b",
     "showTitle": false,
     "title": ""
    }
   },
   "outputs": [],
   "source": [
    "# SELECT order_item_order_id, sum(order_item_subtotal) AS order_revenue FROM order_items GROUP BY order_item_order_id ORDER BY order_item_order_id\n",
    "# agg() => count, sum, min, max, some other aggregate function\n",
    "\n",
    "display(\n",
    "    order_items_df. \\\n",
    "        groupBy('order_item_order_id'). \\\n",
    "        agg(round(sum('order_item_subtotal'), 2).alias('order_revenue')).\n",
    "        orderBy('order_item_order_id')\n",
    ")"
   ]
  },
  {
   "cell_type": "code",
   "execution_count": 0,
   "metadata": {
    "application/vnd.databricks.v1+cell": {
     "cellMetadata": {},
     "inputWidgets": {},
     "nuid": "fdbe83f4-8ff4-43b6-b573-4058df049a89",
     "showTitle": false,
     "title": ""
    }
   },
   "outputs": [],
   "source": [
    "# Get the count of orders per month\n",
    "\n",
    "display(orders_df)"
   ]
  },
  {
   "cell_type": "code",
   "execution_count": 0,
   "metadata": {
    "application/vnd.databricks.v1+cell": {
     "cellMetadata": {},
     "inputWidgets": {},
     "nuid": "1126c3b7-a111-4667-8472-9f5c8770a613",
     "showTitle": false,
     "title": ""
    }
   },
   "outputs": [],
   "source": [
    "from pyspark.sql.functions import date_format"
   ]
  },
  {
   "cell_type": "code",
   "execution_count": 0,
   "metadata": {
    "application/vnd.databricks.v1+cell": {
     "cellMetadata": {},
     "inputWidgets": {},
     "nuid": "394d60d5-c65f-4cbe-9d6c-26eda9784271",
     "showTitle": false,
     "title": ""
    }
   },
   "outputs": [],
   "source": [
    "display(\n",
    "    orders_df. \\\n",
    "        groupBy(date_format('order_date', 'yyyyMM').cast('int').alias('order_month')). \\\n",
    "        agg(count('order_id').alias('order_count')). \\\n",
    "        orderBy('order_month')\n",
    ")"
   ]
  },
  {
   "cell_type": "code",
   "execution_count": 0,
   "metadata": {
    "application/vnd.databricks.v1+cell": {
     "cellMetadata": {},
     "inputWidgets": {},
     "nuid": "193b831c-5cd5-42b0-a18c-5d247e7a2cf5",
     "showTitle": false,
     "title": ""
    }
   },
   "outputs": [],
   "source": [
    "help(orders_df.sort)"
   ]
  },
  {
   "cell_type": "code",
   "execution_count": 0,
   "metadata": {
    "application/vnd.databricks.v1+cell": {
     "cellMetadata": {},
     "inputWidgets": {},
     "nuid": "6be3cfa2-6f54-4f6c-992a-31b5970f0e22",
     "showTitle": false,
     "title": ""
    }
   },
   "outputs": [],
   "source": [
    "# Sorting the data based on one column (ascending or descending)\n",
    "# Composite Sorting - sorting based on multiple columns (2 or more columns)\n",
    "  # col1 asc, col2 asc\n",
    "  # col1 asc, col2 desc\n",
    "  # col1 desc, col2 asc\n",
    "  # col1 desc, col2 desc\n",
    "# Dealing with Nulls"
   ]
  },
  {
   "cell_type": "code",
   "execution_count": 0,
   "metadata": {
    "application/vnd.databricks.v1+cell": {
     "cellMetadata": {},
     "inputWidgets": {},
     "nuid": "9c66fac7-5170-4a37-b373-cd695759c345",
     "showTitle": false,
     "title": ""
    }
   },
   "outputs": [],
   "source": [
    "display(orders_df)"
   ]
  },
  {
   "cell_type": "code",
   "execution_count": 0,
   "metadata": {
    "application/vnd.databricks.v1+cell": {
     "cellMetadata": {},
     "inputWidgets": {},
     "nuid": "7b5b9b6c-037b-49e1-9628-4e721f1709c7",
     "showTitle": false,
     "title": ""
    }
   },
   "outputs": [],
   "source": [
    "from pyspark.sql.functions import col"
   ]
  },
  {
   "cell_type": "code",
   "execution_count": 0,
   "metadata": {
    "application/vnd.databricks.v1+cell": {
     "cellMetadata": {},
     "inputWidgets": {},
     "nuid": "b47c105a-8764-4eda-95c7-a4775eb9a74a",
     "showTitle": false,
     "title": ""
    }
   },
   "outputs": [],
   "source": [
    "c = col('order_customer_id')"
   ]
  },
  {
   "cell_type": "code",
   "execution_count": 0,
   "metadata": {
    "application/vnd.databricks.v1+cell": {
     "cellMetadata": {},
     "inputWidgets": {},
     "nuid": "0c7a17a3-96e8-49df-b12f-fd77966496a6",
     "showTitle": false,
     "title": ""
    }
   },
   "outputs": [],
   "source": [
    "c."
   ]
  },
  {
   "cell_type": "code",
   "execution_count": 0,
   "metadata": {
    "application/vnd.databricks.v1+cell": {
     "cellMetadata": {},
     "inputWidgets": {},
     "nuid": "8a5eb0d3-bae1-466f-901f-95b7c1a6831d",
     "showTitle": false,
     "title": ""
    }
   },
   "outputs": [],
   "source": [
    "# SELECT * FROM orders ORDER BY order_customer_id\n",
    "display(\n",
    "    orders_df. \\\n",
    "        orderBy(col('order_customer_id').asc())\n",
    ")"
   ]
  },
  {
   "cell_type": "code",
   "execution_count": 0,
   "metadata": {
    "application/vnd.databricks.v1+cell": {
     "cellMetadata": {},
     "inputWidgets": {},
     "nuid": "9df55c9c-3411-498e-a73b-1b834849e6ff",
     "showTitle": false,
     "title": ""
    }
   },
   "outputs": [],
   "source": [
    "display(orders_df)"
   ]
  },
  {
   "cell_type": "code",
   "execution_count": 0,
   "metadata": {
    "application/vnd.databricks.v1+cell": {
     "cellMetadata": {},
     "inputWidgets": {},
     "nuid": "0746fbe3-dae4-40ad-aa6e-4a5b4f409357",
     "showTitle": false,
     "title": ""
    }
   },
   "outputs": [],
   "source": [
    "# SELECT * FROM orders ORDER BY order_customer_id, order_date\n",
    "display(\n",
    "    orders_df. \\\n",
    "        orderBy('order_customer_id', 'order_date')\n",
    ")"
   ]
  },
  {
   "cell_type": "code",
   "execution_count": 0,
   "metadata": {
    "application/vnd.databricks.v1+cell": {
     "cellMetadata": {},
     "inputWidgets": {},
     "nuid": "f61b47fc-c9b8-4d99-82d9-a4000c4959cb",
     "showTitle": false,
     "title": ""
    }
   },
   "outputs": [],
   "source": [
    "from pyspark.sql.functions import col"
   ]
  },
  {
   "cell_type": "code",
   "execution_count": 0,
   "metadata": {
    "application/vnd.databricks.v1+cell": {
     "cellMetadata": {},
     "inputWidgets": {},
     "nuid": "045b486c-dc52-4636-97ff-6a1adae4acb8",
     "showTitle": false,
     "title": ""
    }
   },
   "outputs": [],
   "source": [
    "# SELECT * FROM orders ORDER BY order_customer_id, order_date DESC\n",
    "display(\n",
    "    orders_df. \\\n",
    "        orderBy('order_customer_id', col('order_date').desc())\n",
    ")"
   ]
  },
  {
   "cell_type": "code",
   "execution_count": 0,
   "metadata": {
    "application/vnd.databricks.v1+cell": {
     "cellMetadata": {},
     "inputWidgets": {},
     "nuid": "baa95cba-5db3-44db-ba51-806fd3edcc08",
     "showTitle": false,
     "title": ""
    }
   },
   "outputs": [],
   "source": [
    "order_items_df = spark.read.csv(\n",
    "    'dbfs:/public/retail_db/order_items',\n",
    "    schema='''\n",
    "        order_item_id INT, order_item_order_id INT, order_item_product_id INT,\n",
    "        order_item_quantity INT, order_item_subtotal FLOAT, order_item_product_price FLOAT\n",
    "    '''\n",
    ")"
   ]
  },
  {
   "cell_type": "code",
   "execution_count": 0,
   "metadata": {
    "application/vnd.databricks.v1+cell": {
     "cellMetadata": {},
     "inputWidgets": {},
     "nuid": "6419440d-393a-4e94-ba35-224af4d34baf",
     "showTitle": false,
     "title": ""
    }
   },
   "outputs": [],
   "source": [
    "display(order_items_df)"
   ]
  },
  {
   "cell_type": "code",
   "execution_count": 0,
   "metadata": {
    "application/vnd.databricks.v1+cell": {
     "cellMetadata": {},
     "inputWidgets": {},
     "nuid": "e7817d32-ceed-41d4-aea7-998d69b2f579",
     "showTitle": false,
     "title": ""
    }
   },
   "outputs": [],
   "source": [
    "# SELECT * FROM order_items ORDER BY order_item_order_id, order_item_subtotal DESC\n",
    "display(\n",
    "    order_items_df. \\\n",
    "        orderBy('order_item_order_id', col('order_item_subtotal').desc())\n",
    ")"
   ]
  },
  {
   "cell_type": "code",
   "execution_count": 0,
   "metadata": {
    "application/vnd.databricks.v1+cell": {
     "cellMetadata": {},
     "inputWidgets": {},
     "nuid": "0a411648-ce0a-4121-adfd-c57cec49496e",
     "showTitle": false,
     "title": ""
    }
   },
   "outputs": [],
   "source": [
    "%fs ls dbfs:/databricks-datasets"
   ]
  },
  {
   "cell_type": "code",
   "execution_count": 0,
   "metadata": {
    "application/vnd.databricks.v1+cell": {
     "cellMetadata": {},
     "inputWidgets": {},
     "nuid": "16f924dc-e04e-4659-ac91-ec84f9dec194",
     "showTitle": false,
     "title": ""
    }
   },
   "outputs": [],
   "source": [
    "%fs ls dbfs:/databricks-datasets/online_retail/data-001"
   ]
  },
  {
   "cell_type": "code",
   "execution_count": 0,
   "metadata": {
    "application/vnd.databricks.v1+cell": {
     "cellMetadata": {},
     "inputWidgets": {},
     "nuid": "bee57087-17b9-44b3-9603-bda041f8a704",
     "showTitle": false,
     "title": ""
    }
   },
   "outputs": [],
   "source": [
    "df = spark.read.csv('dbfs:/databricks-datasets/online_retail/data-001', header=True, inferSchema=True)"
   ]
  },
  {
   "cell_type": "code",
   "execution_count": 0,
   "metadata": {
    "application/vnd.databricks.v1+cell": {
     "cellMetadata": {},
     "inputWidgets": {},
     "nuid": "d0c8622b-1619-4217-9b86-93fb4b6b80c8",
     "showTitle": false,
     "title": ""
    }
   },
   "outputs": [],
   "source": [
    "display(df)"
   ]
  },
  {
   "cell_type": "code",
   "execution_count": 0,
   "metadata": {
    "application/vnd.databricks.v1+cell": {
     "cellMetadata": {},
     "inputWidgets": {},
     "nuid": "85b93003-4be7-4ccc-a33e-b3ac4b794c75",
     "showTitle": false,
     "title": ""
    }
   },
   "outputs": [],
   "source": [
    "df.count()"
   ]
  },
  {
   "cell_type": "code",
   "execution_count": 0,
   "metadata": {
    "application/vnd.databricks.v1+cell": {
     "cellMetadata": {},
     "inputWidgets": {},
     "nuid": "26daadbe-963d-409e-ac60-d20f1d5977d3",
     "showTitle": false,
     "title": ""
    }
   },
   "outputs": [],
   "source": [
    "display(df.filter('CustomerID IS NULL'))"
   ]
  },
  {
   "cell_type": "code",
   "execution_count": 0,
   "metadata": {
    "application/vnd.databricks.v1+cell": {
     "cellMetadata": {},
     "inputWidgets": {},
     "nuid": "d209f97a-26ed-42cc-85b7-3837783497fa",
     "showTitle": false,
     "title": ""
    }
   },
   "outputs": [],
   "source": [
    "df.filter('CustomerID IS NULL').count()"
   ]
  },
  {
   "cell_type": "code",
   "execution_count": 0,
   "metadata": {
    "application/vnd.databricks.v1+cell": {
     "cellMetadata": {},
     "inputWidgets": {},
     "nuid": "767dabde-93b6-493e-9671-0ccd32338bb1",
     "showTitle": false,
     "title": ""
    }
   },
   "outputs": [],
   "source": [
    "display(df.filter('StockCode = 71053'))"
   ]
  },
  {
   "cell_type": "code",
   "execution_count": 0,
   "metadata": {
    "application/vnd.databricks.v1+cell": {
     "cellMetadata": {},
     "inputWidgets": {},
     "nuid": "88d23e8e-b564-4f34-94ad-ddd1c104599f",
     "showTitle": false,
     "title": ""
    }
   },
   "outputs": [],
   "source": [
    "display(\n",
    "    df.filter('StockCode = 71053'). \\\n",
    "        orderBy('CustomerID')\n",
    ")"
   ]
  },
  {
   "cell_type": "code",
   "execution_count": 0,
   "metadata": {
    "application/vnd.databricks.v1+cell": {
     "cellMetadata": {},
     "inputWidgets": {},
     "nuid": "2795885b-181e-464e-be10-46f0716ab253",
     "showTitle": false,
     "title": ""
    }
   },
   "outputs": [],
   "source": [
    "from pyspark.sql.functions import col"
   ]
  },
  {
   "cell_type": "code",
   "execution_count": 0,
   "metadata": {
    "application/vnd.databricks.v1+cell": {
     "cellMetadata": {},
     "inputWidgets": {},
     "nuid": "9139e0b8-dc3d-423c-b1d8-7504f7fd89d4",
     "showTitle": false,
     "title": ""
    }
   },
   "outputs": [],
   "source": [
    "c = col('CustomerID')"
   ]
  },
  {
   "cell_type": "code",
   "execution_count": 0,
   "metadata": {
    "application/vnd.databricks.v1+cell": {
     "cellMetadata": {},
     "inputWidgets": {},
     "nuid": "7f0bd586-908b-4b01-a72f-71a088fe7e86",
     "showTitle": false,
     "title": ""
    }
   },
   "outputs": [],
   "source": [
    "display(\n",
    "    df.filter('StockCode = 71053'). \\\n",
    "        orderBy(col('CustomerID').asc_nulls_last())\n",
    ")"
   ]
  },
  {
   "cell_type": "code",
   "execution_count": 0,
   "metadata": {
    "application/vnd.databricks.v1+cell": {
     "cellMetadata": {},
     "inputWidgets": {},
     "nuid": "7daa2c89-ff80-421a-8351-ce475d7ed4b6",
     "showTitle": false,
     "title": ""
    }
   },
   "outputs": [],
   "source": [
    "display(\n",
    "    df.filter('StockCode = 71053'). \\\n",
    "        orderBy(col('CustomerID').desc())\n",
    ")"
   ]
  },
  {
   "cell_type": "code",
   "execution_count": 0,
   "metadata": {
    "application/vnd.databricks.v1+cell": {
     "cellMetadata": {},
     "inputWidgets": {},
     "nuid": "18117bdb-74fa-4212-a9ca-d499234064ef",
     "showTitle": false,
     "title": ""
    }
   },
   "outputs": [],
   "source": [
    "display(\n",
    "    df.filter('StockCode = 71053'). \\\n",
    "        orderBy(col('CustomerID').desc_nulls_first())\n",
    ")"
   ]
  },
  {
   "cell_type": "code",
   "execution_count": 0,
   "metadata": {
    "application/vnd.databricks.v1+cell": {
     "cellMetadata": {},
     "inputWidgets": {},
     "nuid": "d52bde1a-be04-4c62-b811-fe47c9ed3af5",
     "showTitle": false,
     "title": ""
    }
   },
   "outputs": [],
   "source": []
  }
 ],
 "metadata": {
  "application/vnd.databricks.v1+notebook": {
   "dashboards": [],
   "language": "python",
   "notebookMetadata": {
    "mostRecentlyExecutedCommandWithImplicitDF": {
     "commandId": 2279386007667569,
     "dataframes": [
      "_sqldf"
     ]
    },
    "pythonIndentUnit": 4
   },
   "notebookName": "01 Basic Transformations using Pyspark Data Frame APIs",
   "notebookOrigID": 1627474539597286,
   "widgets": {}
  }
 },
 "nbformat": 4,
 "nbformat_minor": 0
}
